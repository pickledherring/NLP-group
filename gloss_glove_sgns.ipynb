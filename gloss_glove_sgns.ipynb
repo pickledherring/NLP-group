{
  "nbformat": 4,
  "nbformat_minor": 0,
  "metadata": {
    "colab": {
      "name": "gloss_glove_sgns.ipynb",
      "provenance": [],
      "authorship_tag": "ABX9TyO11HywHPiva5N/CFYwwe1P",
      "include_colab_link": true
    },
    "kernelspec": {
      "name": "python3",
      "display_name": "Python 3"
    },
    "language_info": {
      "name": "python"
    }
  },
  "cells": [
    {
      "cell_type": "markdown",
      "metadata": {
        "id": "view-in-github",
        "colab_type": "text"
      },
      "source": [
        "<a href=\"https://colab.research.google.com/github/pickledherring/NLP-group/blob/main/gloss_glove_sgns.ipynb\" target=\"_parent\"><img src=\"https://colab.research.google.com/assets/colab-badge.svg\" alt=\"Open In Colab\"/></a>"
      ]
    },
    {
      "cell_type": "code",
      "metadata": {
        "id": "VylR5pztFBek"
      },
      "source": [
        "from google.colab import auth\n",
        "from googleapiclient.discovery import build\n",
        "from io import FileIO\n",
        "from googleapiclient.http import MediaIoBaseDownload\n",
        "\n",
        "import pandas as pd\n",
        "import nltk\n",
        "from sklearn.model_selection import train_test_split"
      ],
      "execution_count": null,
      "outputs": []
    },
    {
      "cell_type": "code",
      "metadata": {
        "colab": {
          "base_uri": "https://localhost:8080/"
        },
        "id": "PpJuiW_RJsPd",
        "outputId": "988eb8d1-2cca-4134-c2f4-5b24fad76e96"
      },
      "source": [
        "#  Get the files from google drive\n",
        "auth.authenticate_user()\n",
        "drive_service = build('drive', 'v3')\n",
        "\n",
        "# Get english train data file\n",
        "file_id = '1m3Ax9Z8OHMU-7FqraKc-ddI3YQ7yY_Q6'  # file id on the Google Drive\n",
        "downloaded = FileIO(\"en.trial.complete.json\", 'w')\n",
        "request = drive_service.files().get_media(fileId=file_id)\n",
        "downloader = MediaIoBaseDownload(downloaded, request)\n",
        "done = False\n",
        "while done is False:\n",
        "  status, done = downloader.next_chunk()\n",
        "  print(\"Download {}%.\".format(int(status.progress() * 100)))\n"
      ],
      "execution_count": null,
      "outputs": [
        {
          "output_type": "stream",
          "name": "stdout",
          "text": [
            "Download 100%.\n"
          ]
        }
      ]
    },
    {
      "cell_type": "code",
      "metadata": {
        "colab": {
          "base_uri": "https://localhost:8080/",
          "height": 521
        },
        "id": "GLOsKlE5YZhd",
        "outputId": "fbd4fee3-c6f1-4739-e7a3-029366e8ec9a"
      },
      "source": [
        "en_df = pd.read_json(\"en.trial.complete.json\")\n",
        "en_df.head()"
      ],
      "execution_count": null,
      "outputs": [
        {
          "output_type": "execute_result",
          "data": {
            "text/html": [
              "<div>\n",
              "<style scoped>\n",
              "    .dataframe tbody tr th:only-of-type {\n",
              "        vertical-align: middle;\n",
              "    }\n",
              "\n",
              "    .dataframe tbody tr th {\n",
              "        vertical-align: top;\n",
              "    }\n",
              "\n",
              "    .dataframe thead th {\n",
              "        text-align: right;\n",
              "    }\n",
              "</style>\n",
              "<table border=\"1\" class=\"dataframe\">\n",
              "  <thead>\n",
              "    <tr style=\"text-align: right;\">\n",
              "      <th></th>\n",
              "      <th>id</th>\n",
              "      <th>word</th>\n",
              "      <th>pos</th>\n",
              "      <th>gloss</th>\n",
              "      <th>example</th>\n",
              "      <th>type</th>\n",
              "      <th>counts</th>\n",
              "      <th>f_rnk</th>\n",
              "      <th>concrete</th>\n",
              "      <th>polysemous</th>\n",
              "      <th>sgns</th>\n",
              "      <th>char</th>\n",
              "      <th>electra</th>\n",
              "    </tr>\n",
              "  </thead>\n",
              "  <tbody>\n",
              "    <tr>\n",
              "      <th>0</th>\n",
              "      <td>en.trial.1</td>\n",
              "      <td>beautiful</td>\n",
              "      <td>adjective</td>\n",
              "      <td>Pleasant ; clear .</td>\n",
              "      <td>It 's beautiful outside , let 's go for a walk .</td>\n",
              "      <td>synonym/antonym-based</td>\n",
              "      <td>124908</td>\n",
              "      <td>706</td>\n",
              "      <td>0</td>\n",
              "      <td>0</td>\n",
              "      <td>[1.393769145, 0.7516670227000001, -2.581333160...</td>\n",
              "      <td>[0.295645088, 0.098426342, 0.0463486575, 0.016...</td>\n",
              "      <td>[0.0800914839, -0.1875839084, -0.0411579385000...</td>\n",
              "    </tr>\n",
              "    <tr>\n",
              "      <th>1</th>\n",
              "      <td>en.trial.2</td>\n",
              "      <td>cocktail</td>\n",
              "      <td>noun</td>\n",
              "      <td>A mixture of other substances or things .</td>\n",
              "      <td>a cocktail of illegal drugs</td>\n",
              "      <td>hypernym-based</td>\n",
              "      <td>4187</td>\n",
              "      <td>13245</td>\n",
              "      <td>1</td>\n",
              "      <td>0</td>\n",
              "      <td>[2.0872907639, 0.2617726326, 0.668431639700000...</td>\n",
              "      <td>[0.3878918886, 0.1971583217, -0.44026631120000...</td>\n",
              "      <td>[-1.4771454334, -0.4742421806, 0.0847439319, -...</td>\n",
              "    </tr>\n",
              "    <tr>\n",
              "      <th>2</th>\n",
              "      <td>en.trial.3</td>\n",
              "      <td>institutionalized</td>\n",
              "      <td>adjective</td>\n",
              "      <td>Having been established as an institution .</td>\n",
              "      <td>It is very difficult to get bureaucracies to a...</td>\n",
              "      <td>paraphrastic</td>\n",
              "      <td>961</td>\n",
              "      <td>35934</td>\n",
              "      <td>0</td>\n",
              "      <td>0</td>\n",
              "      <td>[0.7893871069, -0.43510755900000003, 0.8553860...</td>\n",
              "      <td>[-0.0519028902, 0.2257766128, -0.1839749813, 0...</td>\n",
              "      <td>[-1.1030955315, -0.9046602845, 0.1503403783, -...</td>\n",
              "    </tr>\n",
              "    <tr>\n",
              "      <th>3</th>\n",
              "      <td>en.trial.4</td>\n",
              "      <td>menial</td>\n",
              "      <td>noun</td>\n",
              "      <td>A servant , especially a domestic servant .</td>\n",
              "      <td>The world was awake to the 2nd of May , but Ma...</td>\n",
              "      <td>hypernym-based</td>\n",
              "      <td>517</td>\n",
              "      <td>53267</td>\n",
              "      <td>1</td>\n",
              "      <td>1</td>\n",
              "      <td>[0.1222261563, 0.1572209597, 0.5396134257, -0....</td>\n",
              "      <td>[-0.3667449057, -0.1431699395, -0.0671329796, ...</td>\n",
              "      <td>[-1.6584062576, -0.24498166140000002, 0.150174...</td>\n",
              "    </tr>\n",
              "    <tr>\n",
              "      <th>4</th>\n",
              "      <td>en.trial.5</td>\n",
              "      <td>seek</td>\n",
              "      <td>verb</td>\n",
              "      <td>To try to find ; to look for ; to search for .</td>\n",
              "      <td>Not long ago , it was difficult to produce pho...</td>\n",
              "      <td>paraphrastic</td>\n",
              "      <td>25195</td>\n",
              "      <td>3212</td>\n",
              "      <td>0</td>\n",
              "      <td>0</td>\n",
              "      <td>[1.1894155741, 1.3668279648000001, -1.61634504...</td>\n",
              "      <td>[0.6137102246, 0.5464909673, -0.0161557049, 9....</td>\n",
              "      <td>[-0.5474479198000001, -0.0880863219, 0.0784259...</td>\n",
              "    </tr>\n",
              "  </tbody>\n",
              "</table>\n",
              "</div>"
            ],
            "text/plain": [
              "           id  ...                                            electra\n",
              "0  en.trial.1  ...  [0.0800914839, -0.1875839084, -0.0411579385000...\n",
              "1  en.trial.2  ...  [-1.4771454334, -0.4742421806, 0.0847439319, -...\n",
              "2  en.trial.3  ...  [-1.1030955315, -0.9046602845, 0.1503403783, -...\n",
              "3  en.trial.4  ...  [-1.6584062576, -0.24498166140000002, 0.150174...\n",
              "4  en.trial.5  ...  [-0.5474479198000001, -0.0880863219, 0.0784259...\n",
              "\n",
              "[5 rows x 13 columns]"
            ]
          },
          "metadata": {},
          "execution_count": 4
        }
      ]
    },
    {
      "cell_type": "code",
      "metadata": {
        "colab": {
          "base_uri": "https://localhost:8080/"
        },
        "id": "DXf9jjhQZYsd",
        "outputId": "3d80c55b-ea50-4b83-f27b-725dbc38db23"
      },
      "source": [
        "en_df.dtypes"
      ],
      "execution_count": null,
      "outputs": [
        {
          "output_type": "execute_result",
          "data": {
            "text/plain": [
              "id            object\n",
              "word          object\n",
              "pos           object\n",
              "gloss         object\n",
              "example       object\n",
              "type          object\n",
              "counts         int64\n",
              "f_rnk          int64\n",
              "concrete       int64\n",
              "polysemous     int64\n",
              "sgns          object\n",
              "char          object\n",
              "electra       object\n",
              "dtype: object"
            ]
          },
          "metadata": {},
          "execution_count": 5
        }
      ]
    },
    {
      "cell_type": "code",
      "metadata": {
        "colab": {
          "base_uri": "https://localhost:8080/",
          "height": 271
        },
        "id": "KEgGA7Svaev6",
        "outputId": "29b072bf-ae26-443b-f7d7-99ff75a0ac15"
      },
      "source": [
        "en_df[en_df.word.duplicated()]"
      ],
      "execution_count": null,
      "outputs": [
        {
          "output_type": "execute_result",
          "data": {
            "text/html": [
              "<div>\n",
              "<style scoped>\n",
              "    .dataframe tbody tr th:only-of-type {\n",
              "        vertical-align: middle;\n",
              "    }\n",
              "\n",
              "    .dataframe tbody tr th {\n",
              "        vertical-align: top;\n",
              "    }\n",
              "\n",
              "    .dataframe thead th {\n",
              "        text-align: right;\n",
              "    }\n",
              "</style>\n",
              "<table border=\"1\" class=\"dataframe\">\n",
              "  <thead>\n",
              "    <tr style=\"text-align: right;\">\n",
              "      <th></th>\n",
              "      <th>id</th>\n",
              "      <th>word</th>\n",
              "      <th>pos</th>\n",
              "      <th>gloss</th>\n",
              "      <th>example</th>\n",
              "      <th>type</th>\n",
              "      <th>counts</th>\n",
              "      <th>f_rnk</th>\n",
              "      <th>concrete</th>\n",
              "      <th>polysemous</th>\n",
              "      <th>sgns</th>\n",
              "      <th>char</th>\n",
              "      <th>electra</th>\n",
              "    </tr>\n",
              "  </thead>\n",
              "  <tbody>\n",
              "    <tr>\n",
              "      <th>66</th>\n",
              "      <td>en.trial.67</td>\n",
              "      <td>divorce</td>\n",
              "      <td>verb</td>\n",
              "      <td>To legally dissolve a marriage between two peo...</td>\n",
              "      <td>A ship captain can marry couples , but can not...</td>\n",
              "      <td>paraphrastic</td>\n",
              "      <td>21171</td>\n",
              "      <td>3773</td>\n",
              "      <td>0</td>\n",
              "      <td>0</td>\n",
              "      <td>[1.579477787, -1.7040250301, 2.4623465538, -0....</td>\n",
              "      <td>[-0.09191438560000001, -0.0440451615, -0.45280...</td>\n",
              "      <td>[0.0899147466, 0.0271891933, 0.023069024100000...</td>\n",
              "    </tr>\n",
              "    <tr>\n",
              "      <th>188</th>\n",
              "      <td>en.trial.189</td>\n",
              "      <td>forthwith</td>\n",
              "      <td>adverb</td>\n",
              "      <td>Without delay ; immediately .</td>\n",
              "      <td>Then Proclamation was made , that they that ha...</td>\n",
              "      <td>synonym/antonym-based</td>\n",
              "      <td>1179</td>\n",
              "      <td>31462</td>\n",
              "      <td>0</td>\n",
              "      <td>1</td>\n",
              "      <td>[0.7841670513, 0.6406752467, -1.0482375622, -0...</td>\n",
              "      <td>[-8.645650000000001e-05, 0.161273554, 0.082766...</td>\n",
              "      <td>[-1.0183763504, -0.3864063621, 0.0048319194, -...</td>\n",
              "    </tr>\n",
              "  </tbody>\n",
              "</table>\n",
              "</div>"
            ],
            "text/plain": [
              "               id  ...                                            electra\n",
              "66    en.trial.67  ...  [0.0899147466, 0.0271891933, 0.023069024100000...\n",
              "188  en.trial.189  ...  [-1.0183763504, -0.3864063621, 0.0048319194, -...\n",
              "\n",
              "[2 rows x 13 columns]"
            ]
          },
          "metadata": {},
          "execution_count": 7
        }
      ]
    },
    {
      "cell_type": "markdown",
      "metadata": {
        "id": "5mvjqzJ2c-zo"
      },
      "source": [
        "we have words to disambiguate! forthwith looks to be the same with a different example though. <br>thoughts on disambiguation (feel free to add):<br><br> need to gather contex, but all I can think of is to train the NN to find the part of speech of the word and maybe type. I think we are only given the gloss and from that predict the embedding, so we (maybe) can't use the rest of it except in training. probably a good idea regardless of the disambiguation goal. <br><br> we could also retrain the model on incorrect words that are polysemous, like a boosting method. <br><br> lastly, disambiguation might not be necessary given the gloss and the vector might not be so similar. should look at the distance between these words in the embeddings. glosses look different, but I can see the top few elements of these two polysemous words are similar in all of the embeddings."
      ]
    },
    {
      "cell_type": "code",
      "metadata": {
        "colab": {
          "base_uri": "https://localhost:8080/",
          "height": 438
        },
        "id": "UUZHwbOJa7gR",
        "outputId": "872d57d4-cc05-4728-a655-6722321483c7"
      },
      "source": [
        "en_df[(en_df.word == \"divorce\") | (en_df.word == \"forthwith\")]"
      ],
      "execution_count": null,
      "outputs": [
        {
          "output_type": "execute_result",
          "data": {
            "text/html": [
              "<div>\n",
              "<style scoped>\n",
              "    .dataframe tbody tr th:only-of-type {\n",
              "        vertical-align: middle;\n",
              "    }\n",
              "\n",
              "    .dataframe tbody tr th {\n",
              "        vertical-align: top;\n",
              "    }\n",
              "\n",
              "    .dataframe thead th {\n",
              "        text-align: right;\n",
              "    }\n",
              "</style>\n",
              "<table border=\"1\" class=\"dataframe\">\n",
              "  <thead>\n",
              "    <tr style=\"text-align: right;\">\n",
              "      <th></th>\n",
              "      <th>id</th>\n",
              "      <th>word</th>\n",
              "      <th>pos</th>\n",
              "      <th>gloss</th>\n",
              "      <th>example</th>\n",
              "      <th>type</th>\n",
              "      <th>counts</th>\n",
              "      <th>f_rnk</th>\n",
              "      <th>concrete</th>\n",
              "      <th>polysemous</th>\n",
              "      <th>sgns</th>\n",
              "      <th>char</th>\n",
              "      <th>electra</th>\n",
              "    </tr>\n",
              "  </thead>\n",
              "  <tbody>\n",
              "    <tr>\n",
              "      <th>50</th>\n",
              "      <td>en.trial.51</td>\n",
              "      <td>divorce</td>\n",
              "      <td>verb</td>\n",
              "      <td>To separate something that was connected .</td>\n",
              "      <td>The radical group voted to divorce itself from...</td>\n",
              "      <td>hypernym-based</td>\n",
              "      <td>21171</td>\n",
              "      <td>3773</td>\n",
              "      <td>0</td>\n",
              "      <td>0</td>\n",
              "      <td>[1.579477787, -1.7040250301, 2.4623465538, -0....</td>\n",
              "      <td>[-0.09191438560000001, -0.0440451615, -0.45280...</td>\n",
              "      <td>[-0.6520454288, -0.1928912848, 0.0298318155, -...</td>\n",
              "    </tr>\n",
              "    <tr>\n",
              "      <th>66</th>\n",
              "      <td>en.trial.67</td>\n",
              "      <td>divorce</td>\n",
              "      <td>verb</td>\n",
              "      <td>To legally dissolve a marriage between two peo...</td>\n",
              "      <td>A ship captain can marry couples , but can not...</td>\n",
              "      <td>paraphrastic</td>\n",
              "      <td>21171</td>\n",
              "      <td>3773</td>\n",
              "      <td>0</td>\n",
              "      <td>0</td>\n",
              "      <td>[1.579477787, -1.7040250301, 2.4623465538, -0....</td>\n",
              "      <td>[-0.09191438560000001, -0.0440451615, -0.45280...</td>\n",
              "      <td>[0.0899147466, 0.0271891933, 0.023069024100000...</td>\n",
              "    </tr>\n",
              "    <tr>\n",
              "      <th>160</th>\n",
              "      <td>en.trial.161</td>\n",
              "      <td>forthwith</td>\n",
              "      <td>adverb</td>\n",
              "      <td>Without delay ; immediately .</td>\n",
              "      <td>Let ther be Light , said God , and forthwith L...</td>\n",
              "      <td>synonym/antonym-based</td>\n",
              "      <td>1179</td>\n",
              "      <td>31462</td>\n",
              "      <td>0</td>\n",
              "      <td>1</td>\n",
              "      <td>[0.7841670513, 0.6406752467, -1.0482375622, -0...</td>\n",
              "      <td>[-8.645650000000001e-05, 0.161273554, 0.082766...</td>\n",
              "      <td>[-0.9691627026, -0.20675842460000002, 0.184671...</td>\n",
              "    </tr>\n",
              "    <tr>\n",
              "      <th>188</th>\n",
              "      <td>en.trial.189</td>\n",
              "      <td>forthwith</td>\n",
              "      <td>adverb</td>\n",
              "      <td>Without delay ; immediately .</td>\n",
              "      <td>Then Proclamation was made , that they that ha...</td>\n",
              "      <td>synonym/antonym-based</td>\n",
              "      <td>1179</td>\n",
              "      <td>31462</td>\n",
              "      <td>0</td>\n",
              "      <td>1</td>\n",
              "      <td>[0.7841670513, 0.6406752467, -1.0482375622, -0...</td>\n",
              "      <td>[-8.645650000000001e-05, 0.161273554, 0.082766...</td>\n",
              "      <td>[-1.0183763504, -0.3864063621, 0.0048319194, -...</td>\n",
              "    </tr>\n",
              "  </tbody>\n",
              "</table>\n",
              "</div>"
            ],
            "text/plain": [
              "               id  ...                                            electra\n",
              "50    en.trial.51  ...  [-0.6520454288, -0.1928912848, 0.0298318155, -...\n",
              "66    en.trial.67  ...  [0.0899147466, 0.0271891933, 0.023069024100000...\n",
              "160  en.trial.161  ...  [-0.9691627026, -0.20675842460000002, 0.184671...\n",
              "188  en.trial.189  ...  [-1.0183763504, -0.3864063621, 0.0048319194, -...\n",
              "\n",
              "[4 rows x 13 columns]"
            ]
          },
          "metadata": {},
          "execution_count": 11
        }
      ]
    },
    {
      "cell_type": "markdown",
      "metadata": {
        "id": "jFI8k1rjr9Dg"
      },
      "source": [
        "clean glosses of punctuation, turn into lists. no stopwords removed due to small size of gloss, possible future addition to \"clean\". probably should remove duplicates, too."
      ]
    },
    {
      "cell_type": "code",
      "metadata": {
        "colab": {
          "base_uri": "https://localhost:8080/"
        },
        "id": "uvRWJPm6b5fl",
        "outputId": "5979cf02-2589-408f-bd1b-23862d960314"
      },
      "source": [
        "def clean(gloss):\n",
        "  tokenizer = nltk.RegexpTokenizer(r\"\\w+\")\n",
        "  cleaned = tokenizer.tokenize(gloss)\n",
        "  cleaned = [word.lower() for word in cleaned]\n",
        "  return cleaned\n",
        "\n",
        "gloss_lists = en_df.gloss.apply(clean)\n",
        "gloss_lists"
      ],
      "execution_count": null,
      "outputs": [
        {
          "output_type": "execute_result",
          "data": {
            "text/plain": [
              "0                                      [pleasant, clear]\n",
              "1        [a, mixture, of, other, substances, or, things]\n",
              "2       [having, been, established, as, an, institution]\n",
              "3         [a, servant, especially, a, domestic, servant]\n",
              "4      [to, try, to, find, to, look, for, to, search,...\n",
              "                             ...                        \n",
              "195           [any, color, in, plant, or, animal, cells]\n",
              "196                                [appearance, seeming]\n",
              "197    [a, permission, for, a, vehicle, to, proceed, ...\n",
              "198                 [not, moving, much, sitting, around]\n",
              "199    [a, sentence, phrase, or, word, forming, part,...\n",
              "Name: gloss, Length: 200, dtype: object"
            ]
          },
          "metadata": {},
          "execution_count": 18
        }
      ]
    },
    {
      "cell_type": "markdown",
      "metadata": {
        "id": "Vog7waedzRvF"
      },
      "source": [
        "is using pretrained glove vectors cheating? should we be generating our own glove vectors from the training data?"
      ]
    },
    {
      "cell_type": "code",
      "metadata": {
        "id": "xCcgAHRLysv1",
        "colab": {
          "base_uri": "https://localhost:8080/"
        },
        "outputId": "f4452cb4-ff22-4817-80a0-838f77a6800c"
      },
      "source": [
        "# Get the GLoVe vectors file, obtained from https://nlp.stanford.edu/projects/glove/\n",
        "# specifically, the Wikipedia 2014 + Gigaword 5 dataset, 50d\n",
        "file_id = '1w3-Ds25h6BPjqP_NaTOHS-jU-bZBCPDp'\n",
        "downloaded = FileIO(\"glove_50d.txt\", 'w')\n",
        "request = drive_service.files().get_media(fileId=file_id)\n",
        "downloader = MediaIoBaseDownload(downloaded, request)\n",
        "done = False\n",
        "while done is False:\n",
        "  status, done = downloader.next_chunk()\n",
        "  print(\"Download {}%.\".format(int(status.progress() * 100)))"
      ],
      "execution_count": null,
      "outputs": [
        {
          "output_type": "stream",
          "name": "stdout",
          "text": [
            "Download 61%.\n",
            "Download 100%.\n"
          ]
        }
      ]
    },
    {
      "cell_type": "code",
      "metadata": {
        "id": "zaj4fsk95XlQ"
      },
      "source": [
        "# taken from https://stackoverflow.com/a/38230349\n",
        "def load_glove_model(File):\n",
        "  glove_model = {}\n",
        "  with open(File,'r') as f:\n",
        "    for line in f:\n",
        "      split_line = line.split()\n",
        "      word = split_line[0]\n",
        "      glove_model[word] = [float(x) for x in split_line[1:]]\n",
        "  return glove_model\n",
        "\n",
        "glove_words = load_glove(\"glove_50d.txt\")"
      ],
      "execution_count": null,
      "outputs": []
    },
    {
      "cell_type": "markdown",
      "metadata": {
        "id": "7ltFV_NcufI6"
      },
      "source": [
        "function to make word embedding for each word in the gloss, then average those embeddings. averaging might not be the best approach, just the easiest."
      ]
    },
    {
      "cell_type": "code",
      "metadata": {
        "id": "steYQ2OryqiC"
      },
      "source": [
        "def get_glove(gloss_list):\n",
        "  length = len(glove_words[next(iter(glove_words))])\n",
        "  glove_avg = [0] * length\n",
        "\n",
        "  for word in gloss_list:\n",
        "    if word in glove_words:\n",
        "      for i in range(length):\n",
        "        glove_avg[i] += float(glove_words[word][i])\n",
        "\n",
        "  return [x / len(gloss_list) for x in glove_avg]\n",
        "\n",
        "vectors = gloss_lists.apply(get_glove)"
      ],
      "execution_count": null,
      "outputs": []
    },
    {
      "cell_type": "code",
      "metadata": {
        "colab": {
          "base_uri": "https://localhost:8080/"
        },
        "id": "6oIOgQMDL6Fb",
        "outputId": "29188d59-6b3b-4f53-801a-159c9e4f6968"
      },
      "source": [
        "vectors[:5]"
      ],
      "execution_count": null,
      "outputs": [
        {
          "output_type": "execute_result",
          "data": {
            "text/plain": [
              "0    [0.52813, 0.748455, -0.46263, -0.25607, 0.4127...\n",
              "1    [0.3234542857142858, 0.09864314285714286, -0.4...\n",
              "2    [0.3238285, 0.09639766666666666, -0.3500858333...\n",
              "3    [-0.015297833333333344, 0.19006800000000001, -...\n",
              "4    [0.6287290000000001, 0.008221399999999995, 0.1...\n",
              "Name: gloss, dtype: object"
            ]
          },
          "metadata": {},
          "execution_count": 76
        }
      ]
    },
    {
      "cell_type": "code",
      "metadata": {
        "id": "KLQbxPK4MqHN"
      },
      "source": [
        "y = en_df.sgns\n",
        "X_train, X_test, y_train, y_test = train_test_split(vectors, y)"
      ],
      "execution_count": null,
      "outputs": []
    },
    {
      "cell_type": "markdown",
      "metadata": {
        "id": "yohNvLPbNVOU"
      },
      "source": [
        "next up: scale the data, transform it to the right dimensions, build a simple neural network, fit it with the train data, see if we can get sgns vectors, compare with cosine similarity to the test"
      ]
    },
    {
      "cell_type": "code",
      "metadata": {
        "id": "VN_vmAXlL8m6"
      },
      "source": [
        ""
      ],
      "execution_count": null,
      "outputs": []
    }
  ]
}