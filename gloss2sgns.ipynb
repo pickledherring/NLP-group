{
  "nbformat": 4,
  "nbformat_minor": 0,
  "metadata": {
    "interpreter": {
      "hash": "aee8b7b246df8f9039afb4144a1f6fd8d2ca17a180786b69acc140d282b71a49"
    },
    "kernelspec": {
      "display_name": "Python 3.9.7 64-bit",
      "language": "python",
      "name": "python3"
    },
    "language_info": {
      "codemirror_mode": {
        "name": "ipython",
        "version": 3
      },
      "file_extension": ".py",
      "mimetype": "text/x-python",
      "name": "python",
      "nbconvert_exporter": "python",
      "pygments_lexer": "ipython3",
      "version": "3.9.7"
    },
    "orig_nbformat": 4,
    "colab": {
      "name": "gloss2sgns.ipynb",
      "provenance": []
    }
  },
  "cells": [
    {
      "cell_type": "code",
      "metadata": {
        "id": "TMpIGfmUuwjU"
      },
      "source": [
        "from google.colab import auth\n",
        "from googleapiclient.discovery import build\n",
        "from io import FileIO\n",
        "from googleapiclient.http import MediaIoBaseDownload\n",
        "\n",
        "import pandas as pd\n",
        "import nltk\n",
        "from sklearn.model_selection import train_test_split\n",
        "\n",
        "try:\n",
        "  stop_words = nltk.corpus.stopwords.words(\"english\")\n",
        "except:\n",
        "  nltk.download('stopwords')\n",
        "  stop_words = nltk.corpus.stopwords.words(\"english\")\n",
        "\n",
        "import numpy as np\n",
        "import tensorflow as tf\n",
        "from tensorflow import keras\n",
        "from tensorflow.keras import layers\n",
        "from tensorflow.keras.metrics import CosineSimilarity\n",
        "from sklearn.metrics.pairwise import cosine_similarity\n",
        "from sklearn.metrics import mean_squared_error\n",
        "import torch\n",
        "import torch.nn as nn\n",
        "import matplotlib.pyplot as plt\n",
        "%matplotlib inline"
      ],
      "execution_count": 18,
      "outputs": []
    },
    {
      "cell_type": "code",
      "metadata": {
        "id": "E5RerEvhuwjY",
        "outputId": "6be3c4a7-06f5-4f1f-c7c7-bb5851b1bbf2",
        "colab": {
          "base_uri": "https://localhost:8080/"
        }
      },
      "source": [
        "#  Get the files from google drive\n",
        "auth.authenticate_user()\n",
        "drive_service = build('drive', 'v3')\n",
        "\n",
        "# Get english train data file\n",
        "file_id = '1m3Ax9Z8OHMU-7FqraKc-ddI3YQ7yY_Q6'  # file id on the Google Drive\n",
        "downloaded = FileIO(\"en.trial.complete.json\", 'w')\n",
        "request = drive_service.files().get_media(fileId=file_id)\n",
        "downloader = MediaIoBaseDownload(downloaded, request)\n",
        "done = False\n",
        "while done is False:\n",
        "  status, done = downloader.next_chunk()\n",
        "  print(\"Download {}%.\".format(int(status.progress() * 100)))"
      ],
      "execution_count": 2,
      "outputs": [
        {
          "output_type": "stream",
          "name": "stdout",
          "text": [
            "Download 100%.\n"
          ]
        }
      ]
    },
    {
      "cell_type": "code",
      "metadata": {
        "id": "wu8l5-d4uwjZ",
        "outputId": "30ec99c4-5f3d-4888-d138-4b9abee7fdd3",
        "colab": {
          "base_uri": "https://localhost:8080/",
          "height": 521
        }
      },
      "source": [
        "# en_df = pd.read_json(\"trial-data_all/en.trial.complete.json\")\n",
        "en_df = pd.read_json(\"en.trial.complete.json\")\n",
        "en_df.head()"
      ],
      "execution_count": 247,
      "outputs": [
        {
          "output_type": "execute_result",
          "data": {
            "text/html": [
              "<div>\n",
              "<style scoped>\n",
              "    .dataframe tbody tr th:only-of-type {\n",
              "        vertical-align: middle;\n",
              "    }\n",
              "\n",
              "    .dataframe tbody tr th {\n",
              "        vertical-align: top;\n",
              "    }\n",
              "\n",
              "    .dataframe thead th {\n",
              "        text-align: right;\n",
              "    }\n",
              "</style>\n",
              "<table border=\"1\" class=\"dataframe\">\n",
              "  <thead>\n",
              "    <tr style=\"text-align: right;\">\n",
              "      <th></th>\n",
              "      <th>id</th>\n",
              "      <th>word</th>\n",
              "      <th>pos</th>\n",
              "      <th>gloss</th>\n",
              "      <th>example</th>\n",
              "      <th>type</th>\n",
              "      <th>counts</th>\n",
              "      <th>f_rnk</th>\n",
              "      <th>concrete</th>\n",
              "      <th>polysemous</th>\n",
              "      <th>sgns</th>\n",
              "      <th>char</th>\n",
              "      <th>electra</th>\n",
              "    </tr>\n",
              "  </thead>\n",
              "  <tbody>\n",
              "    <tr>\n",
              "      <th>0</th>\n",
              "      <td>en.trial.1</td>\n",
              "      <td>beautiful</td>\n",
              "      <td>adjective</td>\n",
              "      <td>Pleasant ; clear .</td>\n",
              "      <td>It 's beautiful outside , let 's go for a walk .</td>\n",
              "      <td>synonym/antonym-based</td>\n",
              "      <td>124908</td>\n",
              "      <td>706</td>\n",
              "      <td>0</td>\n",
              "      <td>0</td>\n",
              "      <td>[1.393769145, 0.7516670227000001, -2.581333160...</td>\n",
              "      <td>[0.295645088, 0.098426342, 0.0463486575, 0.016...</td>\n",
              "      <td>[0.0800914839, -0.1875839084, -0.0411579385000...</td>\n",
              "    </tr>\n",
              "    <tr>\n",
              "      <th>1</th>\n",
              "      <td>en.trial.2</td>\n",
              "      <td>cocktail</td>\n",
              "      <td>noun</td>\n",
              "      <td>A mixture of other substances or things .</td>\n",
              "      <td>a cocktail of illegal drugs</td>\n",
              "      <td>hypernym-based</td>\n",
              "      <td>4187</td>\n",
              "      <td>13245</td>\n",
              "      <td>1</td>\n",
              "      <td>0</td>\n",
              "      <td>[2.0872907639, 0.2617726326, 0.668431639700000...</td>\n",
              "      <td>[0.3878918886, 0.1971583217, -0.44026631120000...</td>\n",
              "      <td>[-1.4771454334, -0.4742421806, 0.0847439319, -...</td>\n",
              "    </tr>\n",
              "    <tr>\n",
              "      <th>2</th>\n",
              "      <td>en.trial.3</td>\n",
              "      <td>institutionalized</td>\n",
              "      <td>adjective</td>\n",
              "      <td>Having been established as an institution .</td>\n",
              "      <td>It is very difficult to get bureaucracies to a...</td>\n",
              "      <td>paraphrastic</td>\n",
              "      <td>961</td>\n",
              "      <td>35934</td>\n",
              "      <td>0</td>\n",
              "      <td>0</td>\n",
              "      <td>[0.7893871069, -0.43510755900000003, 0.8553860...</td>\n",
              "      <td>[-0.0519028902, 0.2257766128, -0.1839749813, 0...</td>\n",
              "      <td>[-1.1030955315, -0.9046602845, 0.1503403783, -...</td>\n",
              "    </tr>\n",
              "    <tr>\n",
              "      <th>3</th>\n",
              "      <td>en.trial.4</td>\n",
              "      <td>menial</td>\n",
              "      <td>noun</td>\n",
              "      <td>A servant , especially a domestic servant .</td>\n",
              "      <td>The world was awake to the 2nd of May , but Ma...</td>\n",
              "      <td>hypernym-based</td>\n",
              "      <td>517</td>\n",
              "      <td>53267</td>\n",
              "      <td>1</td>\n",
              "      <td>1</td>\n",
              "      <td>[0.1222261563, 0.1572209597, 0.5396134257, -0....</td>\n",
              "      <td>[-0.3667449057, -0.1431699395, -0.0671329796, ...</td>\n",
              "      <td>[-1.6584062576, -0.24498166140000002, 0.150174...</td>\n",
              "    </tr>\n",
              "    <tr>\n",
              "      <th>4</th>\n",
              "      <td>en.trial.5</td>\n",
              "      <td>seek</td>\n",
              "      <td>verb</td>\n",
              "      <td>To try to find ; to look for ; to search for .</td>\n",
              "      <td>Not long ago , it was difficult to produce pho...</td>\n",
              "      <td>paraphrastic</td>\n",
              "      <td>25195</td>\n",
              "      <td>3212</td>\n",
              "      <td>0</td>\n",
              "      <td>0</td>\n",
              "      <td>[1.1894155741, 1.3668279648000001, -1.61634504...</td>\n",
              "      <td>[0.6137102246, 0.5464909673, -0.0161557049, 9....</td>\n",
              "      <td>[-0.5474479198000001, -0.0880863219, 0.0784259...</td>\n",
              "    </tr>\n",
              "  </tbody>\n",
              "</table>\n",
              "</div>"
            ],
            "text/plain": [
              "           id  ...                                            electra\n",
              "0  en.trial.1  ...  [0.0800914839, -0.1875839084, -0.0411579385000...\n",
              "1  en.trial.2  ...  [-1.4771454334, -0.4742421806, 0.0847439319, -...\n",
              "2  en.trial.3  ...  [-1.1030955315, -0.9046602845, 0.1503403783, -...\n",
              "3  en.trial.4  ...  [-1.6584062576, -0.24498166140000002, 0.150174...\n",
              "4  en.trial.5  ...  [-0.5474479198000001, -0.0880863219, 0.0784259...\n",
              "\n",
              "[5 rows x 13 columns]"
            ]
          },
          "metadata": {},
          "execution_count": 247
        }
      ]
    },
    {
      "cell_type": "code",
      "metadata": {
        "id": "oonIioi2uwja",
        "outputId": "115b623b-ff36-4a03-9448-5860541bfbf4",
        "colab": {
          "base_uri": "https://localhost:8080/"
        }
      },
      "source": [
        "def clean(gloss):\n",
        "  tokenizer = nltk.RegexpTokenizer(r\"\\w+\")\n",
        "  cleaned = tokenizer.tokenize(gloss)\n",
        "  cleaned = list(set([word.lower() for word in cleaned]))\n",
        "  # stop words should be replaced with x most frequent words\n",
        "  cleaned = [word for word in cleaned if not word in stop_words]\n",
        "  return cleaned\n",
        "\n",
        "gloss_lists = en_df.gloss.apply(clean)\n",
        "gloss_lists"
      ],
      "execution_count": 248,
      "outputs": [
        {
          "output_type": "execute_result",
          "data": {
            "text/plain": [
              "0                                      [clear, pleasant]\n",
              "1                          [substances, things, mixture]\n",
              "2                             [institution, established]\n",
              "3                        [especially, domestic, servant]\n",
              "4                              [find, search, look, try]\n",
              "                             ...                        \n",
              "195                        [animal, plant, color, cells]\n",
              "196                                [seeming, appearance]\n",
              "197       [person, travel, permission, vehicle, proceed]\n",
              "198                      [around, sitting, much, moving]\n",
              "199    [achievement, word, forming, phrase, heraldic,...\n",
              "Name: gloss, Length: 200, dtype: object"
            ]
          },
          "metadata": {},
          "execution_count": 248
        }
      ]
    },
    {
      "cell_type": "code",
      "metadata": {
        "id": "_1vUGLHkuwjb"
      },
      "source": [
        "# list of all context words\n",
        "context_voc = []\n",
        "for i in range(len(gloss_lists)):\n",
        "  for j in range(len(gloss_lists[i])):\n",
        "    if not gloss_lists[i][j] in context_voc:\n",
        "      context_voc.append(gloss_lists[i][j])"
      ],
      "execution_count": 249,
      "outputs": []
    },
    {
      "cell_type": "code",
      "metadata": {
        "id": "FxATVjHfuwjb"
      },
      "source": [
        "# true context words for each defined word (center word)\n",
        "trues = []\n",
        "for i in range(len(gloss_lists)):\n",
        "  for j in range(len(gloss_lists[i])):\n",
        "    index = context_voc.index(gloss_lists[i][j])\n",
        "    # append index of center in gloss_lists, index in context_voc, and 1 for true\n",
        "    trues.append([i, index, 1])\n"
      ],
      "execution_count": 250,
      "outputs": []
    },
    {
      "cell_type": "code",
      "metadata": {
        "id": "Hw8O-pe8uwjb",
        "outputId": "2dc96ba6-3d72-4d46-f038-8a37de94d8a2",
        "colab": {
          "base_uri": "https://localhost:8080/"
        }
      },
      "source": [
        "# mostly follows this: https://adoni.github.io/2017/11/08/word2vec-pytorch/\n",
        "class SGNS(nn.Module):\n",
        "    def __init__(self) -> 'SGNS':\n",
        "        super(SGNS, self).__init__()\n",
        "        self.center_embs = nn.Embedding(len(gloss_lists), 256, sparse = True)\n",
        "        self.context_embs = nn.Embedding(len(context_voc), 256, sparse = True)\n",
        "        nn.init.xavier_uniform_(self.center_embs.weight)\n",
        "        nn.init.xavier_uniform_(self.context_embs.weight)\n",
        "    def forward(self, center:'center index', pos_con:'trues index', neg_cons:'list of falses indices')->'scores':\n",
        "        scores = []\n",
        "        center_emb = self.center_embs(torch.LongTensor([center]))\n",
        "        pos_context_emb = self.context_embs(torch.LongTensor([pos_con]))\n",
        "        pos_score = torch.mul(center_emb, pos_context_emb).squeeze()\n",
        "        pos_score = torch.sum(pos_score)\n",
        "        pos_score = nn.functional.logsigmoid(pos_score)\n",
        "        scores.append(pos_score)\n",
        "\n",
        "        for neg_con in neg_cons:\n",
        "            neg_context_emb = self.context_embs(torch.LongTensor([neg_con]))\n",
        "            neg_score = torch.mul(center_emb, neg_context_emb).squeeze()\n",
        "            neg_score = torch.sum(neg_score)\n",
        "            neg_score = nn.functional.logsigmoid(-1 * neg_score)\n",
        "            scores.append(neg_score)\n",
        "\n",
        "        return -1 * sum(torch.stack(scores))\n",
        "        \n",
        "sgns = SGNS()\n",
        "sgns"
      ],
      "execution_count": 251,
      "outputs": [
        {
          "output_type": "execute_result",
          "data": {
            "text/plain": [
              "SGNS(\n",
              "  (center_embs): Embedding(200, 256, sparse=True)\n",
              "  (context_embs): Embedding(769, 256, sparse=True)\n",
              ")"
            ]
          },
          "metadata": {},
          "execution_count": 251
        }
      ]
    },
    {
      "cell_type": "code",
      "metadata": {
        "id": "HQxof-uJuwjc",
        "outputId": "82ce80a1-fd10-4be1-feb8-38a7f5d7afcc",
        "colab": {
          "base_uri": "https://localhost:8080/"
        }
      },
      "source": [
        "optim = torch.optim.SparseAdam(sgns.parameters(), lr = .001)\n",
        "\n",
        "# number of negative pairs for each train. 2 - 5 usually works well for large datasets\n",
        "neg_count = 3\n",
        "epochs = 100\n",
        "\n",
        "for i in range(epochs):\n",
        "    for j in range(len(gloss_lists)):\n",
        "        optim.zero_grad()\n",
        "        # to add: choice distribution based on frequency raised to 3/4 power\n",
        "        falses = np.random.choice(len(context_voc), neg_count, replace = False)\n",
        "        loss = sgns.forward(trues[i][0], trues[i][1], falses)\n",
        "        loss.backward()\n",
        "        optim.step()\n",
        "    if i % 10 == 0:\n",
        "        print(loss.data)\n",
        "print(loss.data)"
      ],
      "execution_count": 252,
      "outputs": [
        {
          "output_type": "stream",
          "name": "stdout",
          "text": [
            "tensor(2.0530)\n",
            "tensor(0.7623)\n",
            "tensor(0.0939)\n",
            "tensor(0.0380)\n",
            "tensor(0.0445)\n",
            "tensor(0.0337)\n",
            "tensor(0.0833)\n",
            "tensor(0.2255)\n",
            "tensor(0.0349)\n",
            "tensor(0.0742)\n",
            "tensor(0.0169)\n"
          ]
        }
      ]
    },
    {
      "cell_type": "code",
      "metadata": {
        "id": "1VcmZ7x6uwjd",
        "outputId": "cf5f3815-132b-4de4-bb90-25daed3188bc",
        "colab": {
          "base_uri": "https://localhost:8080/"
        }
      },
      "source": [
        "embeddings = sgns.center_embs.weight.tolist()\n",
        "print(len(embeddings), len(embeddings[0]))"
      ],
      "execution_count": 253,
      "outputs": [
        {
          "output_type": "stream",
          "name": "stdout",
          "text": [
            "200 256\n"
          ]
        }
      ]
    },
    {
      "cell_type": "code",
      "metadata": {
        "id": "F1jRWzV0uwje",
        "outputId": "a84a662c-8e53-4452-eb21-904b90e6c4cb",
        "colab": {
          "base_uri": "https://localhost:8080/"
        }
      },
      "source": [
        "X_train, X_test, y_train, y_test = train_test_split(embeddings, en_df.sgns)\n",
        "print(X_train[0][:5], \"\\n\", y_train[0][:5])"
      ],
      "execution_count": 255,
      "outputs": [
        {
          "output_type": "stream",
          "name": "stdout",
          "text": [
            "[0.08073222637176514, -0.06900676339864731, 0.09153136610984802, -0.06413134187459946, -0.09939511865377426] \n",
            " [1.393769145, 0.7516670227000001, -2.5813331604, 0.41164046530000004, -0.9959195852]\n"
          ]
        }
      ]
    },
    {
      "cell_type": "code",
      "metadata": {
        "id": "dw7vmkxz0efG"
      },
      "source": [
        "y_train = y_train.to_list()\n",
        "y_test = y_test.to_list()"
      ],
      "execution_count": 256,
      "outputs": []
    },
    {
      "cell_type": "code",
      "metadata": {
        "id": "Puyd8Bcxxb9I"
      },
      "source": [
        "X_train = np.asarray(X_train, dtype = np.float32)\n",
        "X_test = np.asarray(X_test, dtype = np.float32)\n",
        "y_train = np.asarray(y_train, dtype = np.float32)\n",
        "y_test = np.asarray(y_test, dtype = np.float32)"
      ],
      "execution_count": 257,
      "outputs": []
    },
    {
      "cell_type": "code",
      "metadata": {
        "id": "FHTB33l2KC-1",
        "outputId": "f7f5c92d-a465-4db2-993e-f9c8882e4b20",
        "colab": {
          "base_uri": "https://localhost:8080/"
        }
      },
      "source": [
        "print(\"Average Cosine Similarity: \", np.mean(cosine_similarity(X_test, y_test)))"
      ],
      "execution_count": 258,
      "outputs": [
        {
          "output_type": "stream",
          "name": "stdout",
          "text": [
            "Average Cosine Similarity:  -0.0026748325\n"
          ]
        }
      ]
    },
    {
      "cell_type": "code",
      "metadata": {
        "id": "Q3CwTUl7uwje"
      },
      "source": [
        "inputs = tf.keras.Input(shape=(256,), dtype=\"float32\")\n",
        "\n",
        "x = layers.Dense(128, activation=\"relu\")(inputs)\n",
        "\n",
        "predictions = layers.Dense(256, activation=\"linear\", name=\"predictions\")(x)\n",
        "\n",
        "model = tf.keras.Model(inputs, predictions)\n",
        "\n",
        "model.compile(loss=\"mean_squared_error\", optimizer=\"adam\", metrics=[CosineSimilarity(axis=1)])"
      ],
      "execution_count": 259,
      "outputs": []
    },
    {
      "cell_type": "code",
      "metadata": {
        "id": "6wZgQc0hvWH2",
        "outputId": "82aa6705-bd09-44b4-e855-ccf40f6a3302",
        "colab": {
          "base_uri": "https://localhost:8080/"
        }
      },
      "source": [
        "model.summary()"
      ],
      "execution_count": 260,
      "outputs": [
        {
          "output_type": "stream",
          "name": "stdout",
          "text": [
            "Model: \"model_29\"\n",
            "_________________________________________________________________\n",
            " Layer (type)                Output Shape              Param #   \n",
            "=================================================================\n",
            " input_31 (InputLayer)       [(None, 256)]             0         \n",
            "                                                                 \n",
            " dense_72 (Dense)            (None, 128)               32896     \n",
            "                                                                 \n",
            " predictions (Dense)         (None, 256)               33024     \n",
            "                                                                 \n",
            "=================================================================\n",
            "Total params: 65,920\n",
            "Trainable params: 65,920\n",
            "Non-trainable params: 0\n",
            "_________________________________________________________________\n"
          ]
        }
      ]
    },
    {
      "cell_type": "code",
      "metadata": {
        "id": "xfLYiUwXw2Hu",
        "outputId": "98586505-5065-471d-cac5-da3053938e19",
        "colab": {
          "base_uri": "https://localhost:8080/"
        }
      },
      "source": [
        "n_epochs = 20\n",
        "history = model.fit(X_train, y_train, epochs = n_epochs)"
      ],
      "execution_count": 261,
      "outputs": [
        {
          "output_type": "stream",
          "name": "stdout",
          "text": [
            "Epoch 1/20\n",
            "5/5 [==============================] - 0s 4ms/step - loss: 1.2563 - cosine_similarity: 0.0083\n",
            "Epoch 2/20\n",
            "5/5 [==============================] - 0s 4ms/step - loss: 1.2400 - cosine_similarity: 0.1152\n",
            "Epoch 3/20\n",
            "5/5 [==============================] - 0s 5ms/step - loss: 1.2267 - cosine_similarity: 0.1865\n",
            "Epoch 4/20\n",
            "5/5 [==============================] - 0s 4ms/step - loss: 1.2143 - cosine_similarity: 0.2318\n",
            "Epoch 5/20\n",
            "5/5 [==============================] - 0s 5ms/step - loss: 1.2026 - cosine_similarity: 0.2583\n",
            "Epoch 6/20\n",
            "5/5 [==============================] - 0s 4ms/step - loss: 1.1898 - cosine_similarity: 0.2754\n",
            "Epoch 7/20\n",
            "5/5 [==============================] - 0s 4ms/step - loss: 1.1780 - cosine_similarity: 0.2871\n",
            "Epoch 8/20\n",
            "5/5 [==============================] - 0s 4ms/step - loss: 1.1658 - cosine_similarity: 0.2959\n",
            "Epoch 9/20\n",
            "5/5 [==============================] - 0s 5ms/step - loss: 1.1531 - cosine_similarity: 0.3029\n",
            "Epoch 10/20\n",
            "5/5 [==============================] - 0s 4ms/step - loss: 1.1410 - cosine_similarity: 0.3081\n",
            "Epoch 11/20\n",
            "5/5 [==============================] - 0s 5ms/step - loss: 1.1279 - cosine_similarity: 0.3134\n",
            "Epoch 12/20\n",
            "5/5 [==============================] - 0s 5ms/step - loss: 1.1160 - cosine_similarity: 0.3184\n",
            "Epoch 13/20\n",
            "5/5 [==============================] - 0s 6ms/step - loss: 1.1046 - cosine_similarity: 0.3230\n",
            "Epoch 14/20\n",
            "5/5 [==============================] - 0s 3ms/step - loss: 1.0932 - cosine_similarity: 0.3278\n",
            "Epoch 15/20\n",
            "5/5 [==============================] - 0s 5ms/step - loss: 1.0826 - cosine_similarity: 0.3333\n",
            "Epoch 16/20\n",
            "5/5 [==============================] - 0s 4ms/step - loss: 1.0721 - cosine_similarity: 0.3393\n",
            "Epoch 17/20\n",
            "5/5 [==============================] - 0s 4ms/step - loss: 1.0614 - cosine_similarity: 0.3460\n",
            "Epoch 18/20\n",
            "5/5 [==============================] - 0s 3ms/step - loss: 1.0509 - cosine_similarity: 0.3534\n",
            "Epoch 19/20\n",
            "5/5 [==============================] - 0s 5ms/step - loss: 1.0404 - cosine_similarity: 0.3609\n",
            "Epoch 20/20\n",
            "5/5 [==============================] - 0s 3ms/step - loss: 1.0303 - cosine_similarity: 0.3683\n"
          ]
        }
      ]
    },
    {
      "cell_type": "code",
      "metadata": {
        "id": "XH8nheBCxHAc"
      },
      "source": [
        " #Compare Model Prediction To All Embeddings And See Which Are Most Similar\n",
        "def Cosine_Similarity( x_instance, y_instance ):\n",
        "    dot_product_value  = np.dot( x_instance, y_instance )\n",
        "    x_instance_l2_norm = np.linalg.norm( x_instance, ord = 2 )\n",
        "    y_instance_l2_norm = np.linalg.norm( y_instance, ord = 2 )\n",
        "    cross_product      = x_instance_l2_norm * y_instance_l2_norm\n",
        "    return dot_product_value / cross_product   "
      ],
      "execution_count": 265,
      "outputs": []
    },
    {
      "cell_type": "markdown",
      "metadata": {
        "id": "-Rd9xv7GCbFf"
      },
      "source": [
        "Cosine Similarity"
      ]
    },
    {
      "cell_type": "code",
      "metadata": {
        "id": "KNLveb-HCZOG",
        "outputId": "26c0718b-2737-458a-9d6a-d1d4747e987f",
        "colab": {
          "base_uri": "https://localhost:8080/"
        }
      },
      "source": [
        "pw_idx = []\n",
        "pred_word_emb = model.predict(X_test, verbose =0)\n",
        "\n",
        "for i in range(len(pred_word_emb)):\n",
        "  #Finds the highest value per predicted Cossim and saves the highest ID per embeddings\n",
        "  cossim_value = Cosine_Similarity(pred_word_emb[i], y_test[i])\n",
        "  pw_idx.append(cossim_value)\n",
        "\n",
        "print(\"Average Cosine Similarity: \", np.mean(pw_idx))"
      ],
      "execution_count": 266,
      "outputs": [
        {
          "output_type": "stream",
          "name": "stdout",
          "text": [
            "Average Cosine Similarity:  0.18645829\n"
          ]
        }
      ]
    },
    {
      "cell_type": "markdown",
      "metadata": {
        "id": "eXXqIJAJIkt8"
      },
      "source": [
        "not sure why these are different, but I'd put it down to the l2 norms"
      ]
    },
    {
      "cell_type": "code",
      "metadata": {
        "id": "4xX1PPEVE12Q",
        "outputId": "b9480a1a-2a4a-4779-bdbf-bb069c952507",
        "colab": {
          "base_uri": "https://localhost:8080/"
        }
      },
      "source": [
        "print(\"Average Cosine Similarity: \", np.mean(cosine_similarity(pred_word_emb, y_test)))"
      ],
      "execution_count": 267,
      "outputs": [
        {
          "output_type": "stream",
          "name": "stdout",
          "text": [
            "Average Cosine Similarity:  0.18811606\n"
          ]
        }
      ]
    },
    {
      "cell_type": "markdown",
      "metadata": {
        "id": "nEW5zwCqIkA_"
      },
      "source": [
        "MSE\n",
        "\n"
      ]
    },
    {
      "cell_type": "code",
      "metadata": {
        "id": "Du00aNkIUHKB",
        "outputId": "cce36528-b616-4bb1-b61a-2b548f36e458",
        "colab": {
          "base_uri": "https://localhost:8080/",
          "height": 279
        }
      },
      "source": [
        "plt.plot(range(n_epochs), history.history[\"loss\"])\n",
        "plt.plot(range(n_epochs), history.history[\"cosine_similarity\"])\n",
        "plt.legend([\"MSE loss\", \"cosine similarity\"])\n",
        "plt.xlabel(\"epochs\")\n",
        "plt.show()"
      ],
      "execution_count": 269,
      "outputs": [
        {
          "output_type": "display_data",
          "data": {
            "image/png": "[encoded data removed]",
            "text/plain": [
              "<Figure size 432x288 with 1 Axes>"
            ]
          },
          "metadata": {
            "needs_background": "light"
          }
        }
      ]
    },
    {
      "cell_type": "code",
      "metadata": {
        "id": "sgufiIojXjFD"
      },
      "source": [
        ""
      ],
      "execution_count": null,
      "outputs": []
    }
  ]
}