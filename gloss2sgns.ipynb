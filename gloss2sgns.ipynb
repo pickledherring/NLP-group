{
  "cells": [
    {
      "cell_type": "code",
      "execution_count": 73,
      "metadata": {
        "id": "TMpIGfmUuwjU"
      },
      "outputs": [],
      "source": [
        "from google.colab import auth\n",
        "from googleapiclient.discovery import build\n",
        "from io import FileIO\n",
        "from googleapiclient.http import MediaIoBaseDownload\n",
        "\n",
        "import pandas as pd\n",
        "import nltk\n",
        "from sklearn.model_selection import train_test_split\n",
        "\n",
        "import numpy as np\n",
        "import tensorflow as tf\n",
        "from tensorflow import keras\n",
        "from tensorflow.keras import layers\n",
        "from tensorflow.keras.metrics import CosineSimilarity\n",
        "from sklearn.metrics.pairwise import cosine_similarity\n",
        "from sklearn.metrics import mean_squared_error\n",
        "import torch\n",
        "import torch.nn as nn\n",
        "import matplotlib.pyplot as plt\n",
        "%matplotlib inline"
      ]
    },
    {
      "cell_type": "code",
      "execution_count": 74,
      "metadata": {
        "colab": {
          "base_uri": "https://localhost:8080/"
        },
        "id": "E5RerEvhuwjY",
        "outputId": "6be3c4a7-06f5-4f1f-c7c7-bb5851b1bbf2"
      },
      "outputs": [],
      "source": [
        "#  Get the files from google drive\n",
        "auth.authenticate_user()\n",
        "drive_service = build('drive', 'v3')\n",
        "\n",
        "# Get english train data file\n",
        "file_id = '1m3Ax9Z8OHMU-7FqraKc-ddI3YQ7yY_Q6'  # file id on the Google Drive\n",
        "downloaded = FileIO(\"en.trial.complete.json\", 'w')\n",
        "request = drive_service.files().get_media(fileId=file_id)\n",
        "downloader = MediaIoBaseDownload(downloaded, request)\n",
        "done = False\n",
        "while done is False:\n",
        "  status, done = downloader.next_chunk()\n",
        "  print(\"Download {}%.\".format(int(status.progress() * 100)))"
      ]
    },
    {
      "cell_type": "code",
      "execution_count": 115,
      "metadata": {
        "colab": {
          "base_uri": "https://localhost:8080/",
          "height": 521
        },
        "id": "wu8l5-d4uwjZ",
        "outputId": "30ec99c4-5f3d-4888-d138-4b9abee7fdd3"
      },
      "outputs": [
        {
          "data": {
            "text/html": [
              "<div>\n",
              "<style scoped>\n",
              "    .dataframe tbody tr th:only-of-type {\n",
              "        vertical-align: middle;\n",
              "    }\n",
              "\n",
              "    .dataframe tbody tr th {\n",
              "        vertical-align: top;\n",
              "    }\n",
              "\n",
              "    .dataframe thead th {\n",
              "        text-align: right;\n",
              "    }\n",
              "</style>\n",
              "<table border=\"1\" class=\"dataframe\">\n",
              "  <thead>\n",
              "    <tr style=\"text-align: right;\">\n",
              "      <th></th>\n",
              "      <th>id</th>\n",
              "      <th>word</th>\n",
              "      <th>pos</th>\n",
              "      <th>gloss</th>\n",
              "      <th>example</th>\n",
              "      <th>type</th>\n",
              "      <th>counts</th>\n",
              "      <th>f_rnk</th>\n",
              "      <th>concrete</th>\n",
              "      <th>polysemous</th>\n",
              "      <th>sgns</th>\n",
              "      <th>char</th>\n",
              "      <th>electra</th>\n",
              "    </tr>\n",
              "  </thead>\n",
              "  <tbody>\n",
              "    <tr>\n",
              "      <th>0</th>\n",
              "      <td>en.trial.1</td>\n",
              "      <td>beautiful</td>\n",
              "      <td>adjective</td>\n",
              "      <td>Pleasant ; clear .</td>\n",
              "      <td>It 's beautiful outside , let 's go for a walk .</td>\n",
              "      <td>synonym/antonym-based</td>\n",
              "      <td>124908</td>\n",
              "      <td>706</td>\n",
              "      <td>0</td>\n",
              "      <td>0</td>\n",
              "      <td>[1.393769145, 0.7516670227000001, -2.581333160...</td>\n",
              "      <td>[0.295645088, 0.098426342, 0.0463486575, 0.016...</td>\n",
              "      <td>[0.0800914839, -0.1875839084, -0.0411579385000...</td>\n",
              "    </tr>\n",
              "    <tr>\n",
              "      <th>1</th>\n",
              "      <td>en.trial.2</td>\n",
              "      <td>cocktail</td>\n",
              "      <td>noun</td>\n",
              "      <td>A mixture of other substances or things .</td>\n",
              "      <td>a cocktail of illegal drugs</td>\n",
              "      <td>hypernym-based</td>\n",
              "      <td>4187</td>\n",
              "      <td>13245</td>\n",
              "      <td>1</td>\n",
              "      <td>0</td>\n",
              "      <td>[2.0872907639, 0.2617726326, 0.668431639700000...</td>\n",
              "      <td>[0.3878918886, 0.1971583217, -0.44026631120000...</td>\n",
              "      <td>[-1.4771454334, -0.4742421806, 0.0847439319, -...</td>\n",
              "    </tr>\n",
              "    <tr>\n",
              "      <th>2</th>\n",
              "      <td>en.trial.3</td>\n",
              "      <td>institutionalized</td>\n",
              "      <td>adjective</td>\n",
              "      <td>Having been established as an institution .</td>\n",
              "      <td>It is very difficult to get bureaucracies to a...</td>\n",
              "      <td>paraphrastic</td>\n",
              "      <td>961</td>\n",
              "      <td>35934</td>\n",
              "      <td>0</td>\n",
              "      <td>0</td>\n",
              "      <td>[0.7893871069, -0.43510755900000003, 0.8553860...</td>\n",
              "      <td>[-0.0519028902, 0.2257766128, -0.1839749813, 0...</td>\n",
              "      <td>[-1.1030955315, -0.9046602845, 0.1503403783, -...</td>\n",
              "    </tr>\n",
              "    <tr>\n",
              "      <th>3</th>\n",
              "      <td>en.trial.4</td>\n",
              "      <td>menial</td>\n",
              "      <td>noun</td>\n",
              "      <td>A servant , especially a domestic servant .</td>\n",
              "      <td>The world was awake to the 2nd of May , but Ma...</td>\n",
              "      <td>hypernym-based</td>\n",
              "      <td>517</td>\n",
              "      <td>53267</td>\n",
              "      <td>1</td>\n",
              "      <td>1</td>\n",
              "      <td>[0.1222261563, 0.1572209597, 0.5396134257, -0....</td>\n",
              "      <td>[-0.3667449057, -0.1431699395, -0.0671329796, ...</td>\n",
              "      <td>[-1.6584062576, -0.24498166140000002, 0.150174...</td>\n",
              "    </tr>\n",
              "    <tr>\n",
              "      <th>4</th>\n",
              "      <td>en.trial.5</td>\n",
              "      <td>seek</td>\n",
              "      <td>verb</td>\n",
              "      <td>To try to find ; to look for ; to search for .</td>\n",
              "      <td>Not long ago , it was difficult to produce pho...</td>\n",
              "      <td>paraphrastic</td>\n",
              "      <td>25195</td>\n",
              "      <td>3212</td>\n",
              "      <td>0</td>\n",
              "      <td>0</td>\n",
              "      <td>[1.1894155741, 1.3668279648000001, -1.61634504...</td>\n",
              "      <td>[0.6137102246, 0.5464909673, -0.0161557049, 9....</td>\n",
              "      <td>[-0.5474479198000001, -0.0880863219, 0.0784259...</td>\n",
              "    </tr>\n",
              "  </tbody>\n",
              "</table>\n",
              "</div>"
            ],
            "text/plain": [
              "           id               word        pos  \\\n",
              "0  en.trial.1          beautiful  adjective   \n",
              "1  en.trial.2           cocktail       noun   \n",
              "2  en.trial.3  institutionalized  adjective   \n",
              "3  en.trial.4             menial       noun   \n",
              "4  en.trial.5               seek       verb   \n",
              "\n",
              "                                            gloss  \\\n",
              "0                              Pleasant ; clear .   \n",
              "1       A mixture of other substances or things .   \n",
              "2     Having been established as an institution .   \n",
              "3     A servant , especially a domestic servant .   \n",
              "4  To try to find ; to look for ; to search for .   \n",
              "\n",
              "                                             example                   type  \\\n",
              "0   It 's beautiful outside , let 's go for a walk .  synonym/antonym-based   \n",
              "1                        a cocktail of illegal drugs         hypernym-based   \n",
              "2  It is very difficult to get bureaucracies to a...           paraphrastic   \n",
              "3  The world was awake to the 2nd of May , but Ma...         hypernym-based   \n",
              "4  Not long ago , it was difficult to produce pho...           paraphrastic   \n",
              "\n",
              "   counts  f_rnk  concrete  polysemous  \\\n",
              "0  124908    706         0           0   \n",
              "1    4187  13245         1           0   \n",
              "2     961  35934         0           0   \n",
              "3     517  53267         1           1   \n",
              "4   25195   3212         0           0   \n",
              "\n",
              "                                                sgns  \\\n",
              "0  [1.393769145, 0.7516670227000001, -2.581333160...   \n",
              "1  [2.0872907639, 0.2617726326, 0.668431639700000...   \n",
              "2  [0.7893871069, -0.43510755900000003, 0.8553860...   \n",
              "3  [0.1222261563, 0.1572209597, 0.5396134257, -0....   \n",
              "4  [1.1894155741, 1.3668279648000001, -1.61634504...   \n",
              "\n",
              "                                                char  \\\n",
              "0  [0.295645088, 0.098426342, 0.0463486575, 0.016...   \n",
              "1  [0.3878918886, 0.1971583217, -0.44026631120000...   \n",
              "2  [-0.0519028902, 0.2257766128, -0.1839749813, 0...   \n",
              "3  [-0.3667449057, -0.1431699395, -0.0671329796, ...   \n",
              "4  [0.6137102246, 0.5464909673, -0.0161557049, 9....   \n",
              "\n",
              "                                             electra  \n",
              "0  [0.0800914839, -0.1875839084, -0.0411579385000...  \n",
              "1  [-1.4771454334, -0.4742421806, 0.0847439319, -...  \n",
              "2  [-1.1030955315, -0.9046602845, 0.1503403783, -...  \n",
              "3  [-1.6584062576, -0.24498166140000002, 0.150174...  \n",
              "4  [-0.5474479198000001, -0.0880863219, 0.0784259...  "
            ]
          },
          "execution_count": 115,
          "metadata": {},
          "output_type": "execute_result"
        }
      ],
      "source": [
        "# en_df = pd.read_json(\"trial-data_all/en.trial.complete.json\")\n",
        "en_df = pd.read_json(\"en.trial.complete.json\")\n",
        "en_df.head()"
      ]
    },
    {
      "cell_type": "code",
      "execution_count": 116,
      "metadata": {
        "colab": {
          "base_uri": "https://localhost:8080/"
        },
        "id": "oonIioi2uwja",
        "outputId": "115b623b-ff36-4a03-9448-5860541bfbf4"
      },
      "outputs": [
        {
          "data": {
            "text/plain": [
              "0                                      [pleasant, clear]\n",
              "1        [of, mixture, or, things, substances, a, other]\n",
              "2       [having, an, been, as, established, institution]\n",
              "3                     [a, servant, domestic, especially]\n",
              "4                     [try, for, search, find, to, look]\n",
              "                             ...                        \n",
              "195           [in, cells, or, plant, any, animal, color]\n",
              "196                                [seeming, appearance]\n",
              "197    [for, to, vehicle, or, permission, person, tra...\n",
              "198                 [around, moving, sitting, much, not]\n",
              "199    [achievement, an, word, of, or, sentence, part...\n",
              "Name: gloss, Length: 200, dtype: object"
            ]
          },
          "execution_count": 116,
          "metadata": {},
          "output_type": "execute_result"
        }
      ],
      "source": [
        "def clean(gloss):\n",
        "  tokenizer = nltk.RegexpTokenizer(r\"\\w+\")\n",
        "  cleaned = tokenizer.tokenize(gloss)\n",
        "  cleaned = list(set([word.lower() for word in cleaned]))\n",
        "  # stop words should be replaced with x most frequent words\n",
        "  return cleaned\n",
        "\n",
        "gloss_lists = en_df.gloss.apply(clean)\n",
        "gloss_lists"
      ]
    },
    {
      "cell_type": "code",
      "execution_count": 117,
      "metadata": {
        "id": "_1vUGLHkuwjb"
      },
      "outputs": [],
      "source": [
        "# list of all context words\n",
        "context_voc = []\n",
        "for i in range(len(gloss_lists)):\n",
        "  for j in range(len(gloss_lists[i])):\n",
        "    if not gloss_lists[i][j] in context_voc:\n",
        "      context_voc.append(gloss_lists[i][j])"
      ]
    },
    {
      "cell_type": "code",
      "execution_count": 118,
      "metadata": {
        "id": "FxATVjHfuwjb"
      },
      "outputs": [],
      "source": [
        "# true context words for each defined word (center word)\n",
        "trues = []\n",
        "for i in range(len(gloss_lists)):\n",
        "  for j in range(len(gloss_lists[i])):\n",
        "    index = context_voc.index(gloss_lists[i][j])\n",
        "    # append index of center in gloss_lists, index in context_voc, and 1 for true\n",
        "    trues.append([i, index, 1])\n"
      ]
    },
    {
      "cell_type": "code",
      "execution_count": 119,
      "metadata": {
        "colab": {
          "base_uri": "https://localhost:8080/"
        },
        "id": "Hw8O-pe8uwjb",
        "outputId": "2dc96ba6-3d72-4d46-f038-8a37de94d8a2"
      },
      "outputs": [
        {
          "data": {
            "text/plain": [
              "SGNS(\n",
              "  (center_embs): Embedding(200, 256, sparse=True)\n",
              "  (context_embs): Embedding(830, 256, sparse=True)\n",
              ")"
            ]
          },
          "execution_count": 119,
          "metadata": {},
          "output_type": "execute_result"
        }
      ],
      "source": [
        "# mostly follows this: https://adoni.github.io/2017/11/08/word2vec-pytorch/\n",
        "class SGNS(nn.Module):\n",
        "    def __init__(self) -> 'SGNS':\n",
        "        super(SGNS, self).__init__()\n",
        "        self.center_embs = nn.Embedding(len(gloss_lists), 256, sparse = True)\n",
        "        self.context_embs = nn.Embedding(len(context_voc), 256, sparse = True)\n",
        "        nn.init.xavier_uniform_(self.center_embs.weight)\n",
        "        nn.init.xavier_uniform_(self.context_embs.weight)\n",
        "    def forward(self, center:'center index', pos_con:'trues index', neg_cons:'list of falses indices')->'scores':\n",
        "        scores = []\n",
        "        center_emb = self.center_embs(torch.LongTensor([center]))\n",
        "        pos_context_emb = self.context_embs(torch.LongTensor([pos_con]))\n",
        "        pos_score = torch.mul(center_emb, pos_context_emb).squeeze()\n",
        "        pos_score = torch.sum(pos_score)\n",
        "        pos_score = nn.functional.logsigmoid(pos_score)\n",
        "        scores.append(pos_score)\n",
        "\n",
        "        for neg_con in neg_cons:\n",
        "            neg_context_emb = self.context_embs(torch.LongTensor([neg_con]))\n",
        "            neg_score = torch.mul(center_emb, neg_context_emb).squeeze()\n",
        "            neg_score = torch.sum(neg_score)\n",
        "            neg_score = nn.functional.logsigmoid(-1 * neg_score)\n",
        "            scores.append(neg_score)\n",
        "\n",
        "        return -1 * sum(torch.stack(scores))\n",
        "        \n",
        "sgns = SGNS()\n",
        "sgns"
      ]
    },
    {
      "cell_type": "code",
      "execution_count": 120,
      "metadata": {
        "colab": {
          "base_uri": "https://localhost:8080/"
        },
        "id": "HQxof-uJuwjc",
        "outputId": "82ce80a1-fd10-4be1-feb8-38a7f5d7afcc"
      },
      "outputs": [
        {
          "name": "stdout",
          "output_type": "stream",
          "text": [
            "tensor(2.0021)\n",
            "tensor(0.4456)\n",
            "tensor(0.0966)\n",
            "tensor(0.0674)\n",
            "tensor(0.5456)\n",
            "tensor(0.0286)\n",
            "tensor(0.0361)\n",
            "tensor(0.0351)\n",
            "tensor(0.0201)\n",
            "tensor(0.0343)\n",
            "tensor(0.0428)\n"
          ]
        }
      ],
      "source": [
        "optim = torch.optim.SparseAdam(sgns.parameters(), lr = .001)\n",
        "\n",
        "# number of negative pairs for each train. 2 - 5 usually works well for large datasets\n",
        "neg_count = 3\n",
        "epochs = 100\n",
        "\n",
        "for i in range(epochs):\n",
        "    for j in range(len(gloss_lists)):\n",
        "        optim.zero_grad()\n",
        "        # to add: choice distribution based on frequency raised to 3/4 power\n",
        "        falses = np.random.choice(len(context_voc), neg_count, replace = False)\n",
        "        loss = sgns.forward(trues[i][0], trues[i][1], falses)\n",
        "        loss.backward()\n",
        "        optim.step()\n",
        "    if i % 10 == 0:\n",
        "        print(loss.data)\n",
        "print(loss.data)"
      ]
    },
    {
      "cell_type": "code",
      "execution_count": 121,
      "metadata": {
        "colab": {
          "base_uri": "https://localhost:8080/"
        },
        "id": "1VcmZ7x6uwjd",
        "outputId": "cf5f3815-132b-4de4-bb90-25daed3188bc"
      },
      "outputs": [
        {
          "name": "stdout",
          "output_type": "stream",
          "text": [
            "200 256\n"
          ]
        }
      ],
      "source": [
        "embeddings = sgns.center_embs.weight.tolist()\n",
        "print(len(embeddings), len(embeddings[0]))"
      ]
    },
    {
      "cell_type": "code",
      "execution_count": 122,
      "metadata": {
        "colab": {
          "base_uri": "https://localhost:8080/"
        },
        "id": "F1jRWzV0uwje",
        "outputId": "a84a662c-8e53-4452-eb21-904b90e6c4cb"
      },
      "outputs": [
        {
          "name": "stdout",
          "output_type": "stream",
          "text": [
            "[-0.10503080487251282, -0.0042007118463516235, 0.054782770574092865, 0.02666471153497696, -0.01643005758523941] \n",
            " [1.393769145, 0.7516670227000001, -2.5813331604, 0.41164046530000004, -0.9959195852]\n"
          ]
        }
      ],
      "source": [
        "X_train, X_test, y_train, y_test = train_test_split(embeddings, en_df.sgns)\n",
        "print(X_train[0][:5], \"\\n\", y_train[0][:5])"
      ]
    },
    {
      "cell_type": "code",
      "execution_count": 123,
      "metadata": {
        "id": "dw7vmkxz0efG"
      },
      "outputs": [],
      "source": [
        "y_train = y_train.to_list()\n",
        "y_test = y_test.to_list()"
      ]
    },
    {
      "cell_type": "code",
      "execution_count": 124,
      "metadata": {
        "id": "Puyd8Bcxxb9I"
      },
      "outputs": [],
      "source": [
        "X_train = np.asarray(X_train, dtype = np.float32)\n",
        "X_test = np.asarray(X_test, dtype = np.float32)\n",
        "y_train = np.asarray(y_train, dtype = np.float32)\n",
        "y_test = np.asarray(y_test, dtype = np.float32)"
      ]
    },
    {
      "cell_type": "code",
      "execution_count": 125,
      "metadata": {},
      "outputs": [],
      "source": [
        " #Compare Model Prediction To All Embeddings And See Which Are Most Similar\n",
        "def Cosine_Similarity(x_instance, y_instance):\n",
        "    dot_product_value  = np.dot(x_instance, y_instance)\n",
        "    x_instance_l2_norm = np.linalg.norm(x_instance, ord = 2)\n",
        "    y_instance_l2_norm = np.linalg.norm(y_instance, ord = 2)\n",
        "    cross_product      = x_instance_l2_norm * y_instance_l2_norm\n",
        "    return dot_product_value / cross_product"
      ]
    },
    {
      "cell_type": "code",
      "execution_count": 126,
      "metadata": {
        "colab": {
          "base_uri": "https://localhost:8080/"
        },
        "id": "FHTB33l2KC-1",
        "outputId": "f7f5c92d-a465-4db2-993e-f9c8882e4b20"
      },
      "outputs": [],
      "source": [
        "def report(pred_word_emb, y_test):\n",
        "  cos_k_list = [0 for _ in range(len(y_test))]\n",
        "  mse_k_list = [0 for _ in range(len(y_test))]\n",
        "  true_sim = []\n",
        "  true_mse = []\n",
        "  for i, def_emb in enumerate(pred_word_emb):\n",
        "      cos_list = []\n",
        "      mse_list = []\n",
        "      true_sim.append(Cosine_Similarity(pred_word_emb[i], y_test[i]))\n",
        "      true_mse.append(mean_squared_error(pred_word_emb[i], y_test[i]))\n",
        "      #Finds the highest value per predicted Cossim and saves the highest ID per embeddings\n",
        "      for j, true_embedding in enumerate(y_test):\n",
        "          cos_list.append([Cosine_Similarity(def_emb, true_embedding), j])\n",
        "          mse_list.append([mean_squared_error(def_emb, true_embedding), j])\n",
        "      \n",
        "      cos_list.sort(reverse=True)\n",
        "      mse_list.sort()\n",
        "\n",
        "      for j in range(len(cos_list)):\n",
        "          if cos_list[j][1] == i:\n",
        "              for k in range(j, len(y_test)):\n",
        "                  cos_k_list[k] += 1\n",
        "          if mse_list[j][1] == i:\n",
        "              for k in range(j, len(y_test)):\n",
        "                  mse_k_list[k] += 1\n",
        "  print(\"MSE: \")\n",
        "  print(\"Average MSE: \", np.mean(true_mse))\n",
        "  print(\"Rank 1 MSE Similarity Accuracy: \", mse_k_list[0]/len(y_test) * 100, \"%\")\n",
        "  print(\"Rank 5 MSE Similarity Accuracy: \",\n",
        "      mse_k_list[5]/len(y_test) * 100, \"%\")\n",
        "  print(\"Rank 10 MSE Similarity Accuracy: \",\n",
        "      mse_k_list[10]/len(y_test) * 100, \"%\")\n",
        "  print(\"Cosine: \")\n",
        "  print(\"Average Cosine Similarity: \", np.mean(true_sim))\n",
        "  print(\"Rank 1 Cosine Similarity Accuracy: \", cos_k_list[0]/len(y_test) * 100, \"%\")\n",
        "  print(\"Rank 5 Cosine Similarity Accuracy: \",\n",
        "      cos_k_list[5]/len(y_test) * 100, \"%\")\n",
        "  print(\"Rank 10 Cosine Similarity Accuracy: \",\n",
        "      cos_k_list[10]/len(y_test) * 100, \"%\")\n",
        "  plt.plot(range(len(cos_k_list)), [x/len(y_test) * 100 for x in cos_k_list])\n",
        "  plt.plot(range(len(mse_k_list)), [x/len(y_test) * 100 for x in mse_k_list])\n",
        "  plt.legend([\"cosine\", \"mse\"])\n",
        "  plt.xlabel(\"k\")\n",
        "  plt.ylabel(\"rank accuracy\")\n",
        "  plt.show()"
      ]
    },
    {
      "cell_type": "code",
      "execution_count": 127,
      "metadata": {},
      "outputs": [
        {
          "name": "stdout",
          "output_type": "stream",
          "text": [
            "MSE: \n",
            "Average MSE:  1.2573394\n",
            "Rank 1 MSE Similarity Accuracy:  2.0 %\n",
            "Rank 5 MSE Similarity Accuracy:  12.0 %\n",
            "Rank 10 MSE Similarity Accuracy:  22.0 %\n",
            "Cosine: \n",
            "Average Cosine Similarity:  -0.00971972\n",
            "Rank 1 Cosine Similarity Accuracy:  2.0 %\n",
            "Rank 5 Cosine Similarity Accuracy:  10.0 %\n",
            "Rank 10 Cosine Similarity Accuracy:  18.0 %\n"
          ]
        },
        {
          "data": {
            "image/png": "[encoded data removed]",
            "text/plain": [
              "<Figure size 432x288 with 1 Axes>"
            ]
          },
          "metadata": {
            "needs_background": "light"
          },
          "output_type": "display_data"
        }
      ],
      "source": [
        "report(X_test, y_test)"
      ]
    },
    {
      "cell_type": "code",
      "execution_count": 128,
      "metadata": {
        "id": "Q3CwTUl7uwje"
      },
      "outputs": [],
      "source": [
        "inputs = tf.keras.Input(shape=(256,), dtype=\"float32\")\n",
        "x = layers.Dense(128, activation=\"relu\")(inputs)\n",
        "predictions = layers.Dense(256, activation=\"linear\", name=\"predictions\")(x)\n",
        "x = layers.Dense(128, activation=\"tanh\")(x)\n",
        "model = tf.keras.Model(inputs, predictions)\n",
        "model.compile(loss=\"mean_squared_error\", optimizer=\"adam\", metrics=[CosineSimilarity(axis=1)])"
      ]
    },
    {
      "cell_type": "code",
      "execution_count": 129,
      "metadata": {
        "colab": {
          "base_uri": "https://localhost:8080/"
        },
        "id": "6wZgQc0hvWH2",
        "outputId": "82aa6705-bd09-44b4-e855-ccf40f6a3302"
      },
      "outputs": [
        {
          "name": "stdout",
          "output_type": "stream",
          "text": [
            "Model: \"model_6\"\n",
            "_________________________________________________________________\n",
            "Layer (type)                 Output Shape              Param #   \n",
            "=================================================================\n",
            "input_7 (InputLayer)         [(None, 256)]             0         \n",
            "_________________________________________________________________\n",
            "dense_13 (Dense)             (None, 128)               32896     \n",
            "_________________________________________________________________\n",
            "predictions (Dense)          (None, 256)               33024     \n",
            "=================================================================\n",
            "Total params: 65,920\n",
            "Trainable params: 65,920\n",
            "Non-trainable params: 0\n",
            "_________________________________________________________________\n"
          ]
        }
      ],
      "source": [
        "model.summary()"
      ]
    },
    {
      "cell_type": "code",
      "execution_count": 130,
      "metadata": {
        "colab": {
          "base_uri": "https://localhost:8080/"
        },
        "id": "xfLYiUwXw2Hu",
        "outputId": "98586505-5065-471d-cac5-da3053938e19"
      },
      "outputs": [
        {
          "name": "stdout",
          "output_type": "stream",
          "text": [
            "Epoch 1/20\n",
            "5/5 [==============================] - 0s 1ms/step - loss: 1.2028 - cosine_similarity: 0.0196\n",
            "Epoch 2/20\n",
            "5/5 [==============================] - 0s 944us/step - loss: 1.2322 - cosine_similarity: 0.1164\n",
            "Epoch 3/20\n",
            "5/5 [==============================] - 0s 932us/step - loss: 1.3402 - cosine_similarity: 0.1910\n",
            "Epoch 4/20\n",
            "5/5 [==============================] - 0s 920us/step - loss: 1.1859 - cosine_similarity: 0.2240\n",
            "Epoch 5/20\n",
            "5/5 [==============================] - 0s 945us/step - loss: 1.2106 - cosine_similarity: 0.2566\n",
            "Epoch 6/20\n",
            "5/5 [==============================] - 0s 1ms/step - loss: 1.1795 - cosine_similarity: 0.2657\n",
            "Epoch 7/20\n",
            "5/5 [==============================] - 0s 912us/step - loss: 1.1662 - cosine_similarity: 0.2794\n",
            "Epoch 8/20\n",
            "5/5 [==============================] - 0s 1ms/step - loss: 1.1675 - cosine_similarity: 0.2854\n",
            "Epoch 9/20\n",
            "5/5 [==============================] - 0s 926us/step - loss: 1.1364 - cosine_similarity: 0.2971\n",
            "Epoch 10/20\n",
            "5/5 [==============================] - 0s 911us/step - loss: 1.1805 - cosine_similarity: 0.3075\n",
            "Epoch 11/20\n",
            "5/5 [==============================] - 0s 881us/step - loss: 1.1874 - cosine_similarity: 0.3206\n",
            "Epoch 12/20\n",
            "5/5 [==============================] - 0s 929us/step - loss: 1.1180 - cosine_similarity: 0.3036\n",
            "Epoch 13/20\n",
            "5/5 [==============================] - 0s 928us/step - loss: 1.0635 - cosine_similarity: 0.3183\n",
            "Epoch 14/20\n",
            "5/5 [==============================] - 0s 902us/step - loss: 1.1655 - cosine_similarity: 0.3236\n",
            "Epoch 15/20\n",
            "5/5 [==============================] - 0s 895us/step - loss: 1.1436 - cosine_similarity: 0.3306\n",
            "Epoch 16/20\n",
            "5/5 [==============================] - 0s 922us/step - loss: 1.0431 - cosine_similarity: 0.3303\n",
            "Epoch 17/20\n",
            "5/5 [==============================] - 0s 904us/step - loss: 1.1441 - cosine_similarity: 0.3526\n",
            "Epoch 18/20\n",
            "5/5 [==============================] - 0s 905us/step - loss: 1.0664 - cosine_similarity: 0.3267\n",
            "Epoch 19/20\n",
            "5/5 [==============================] - 0s 916us/step - loss: 1.0480 - cosine_similarity: 0.3617\n",
            "Epoch 20/20\n",
            "5/5 [==============================] - 0s 892us/step - loss: 1.0408 - cosine_similarity: 0.3518\n"
          ]
        }
      ],
      "source": [
        "n_epochs = 20\n",
        "history = model.fit(X_train, y_train, epochs = n_epochs)"
      ]
    },
    {
      "cell_type": "markdown",
      "metadata": {
        "id": "-Rd9xv7GCbFf"
      },
      "source": [
        "Cosine Similarity"
      ]
    },
    {
      "cell_type": "code",
      "execution_count": 131,
      "metadata": {
        "colab": {
          "base_uri": "https://localhost:8080/"
        },
        "id": "KNLveb-HCZOG",
        "outputId": "26c0718b-2737-458a-9d6a-d1d4747e987f"
      },
      "outputs": [
        {
          "name": "stdout",
          "output_type": "stream",
          "text": [
            "WARNING:tensorflow:5 out of the last 11 calls to <function Model.make_predict_function.<locals>.predict_function at 0x1b732b790> triggered tf.function retracing. Tracing is expensive and the excessive number of tracings could be due to (1) creating @tf.function repeatedly in a loop, (2) passing tensors with different shapes, (3) passing Python objects instead of tensors. For (1), please define your @tf.function outside of the loop. For (2), @tf.function has experimental_relax_shapes=True option that relaxes argument shapes that can avoid unnecessary retracing. For (3), please refer to https://www.tensorflow.org/guide/function#controlling_retracing and https://www.tensorflow.org/api_docs/python/tf/function for  more details.\n",
            "MSE: \n",
            "Average MSE:  1.1892922\n",
            "Rank 1 MSE Similarity Accuracy:  2.0 %\n",
            "Rank 5 MSE Similarity Accuracy:  10.0 %\n",
            "Rank 10 MSE Similarity Accuracy:  22.0 %\n",
            "Cosine: \n",
            "Average Cosine Similarity:  0.21739815\n",
            "Rank 1 Cosine Similarity Accuracy:  0.0 %\n",
            "Rank 5 Cosine Similarity Accuracy:  12.0 %\n",
            "Rank 10 Cosine Similarity Accuracy:  26.0 %\n"
          ]
        },
        {
          "data": {
            "image/png": "[encoded data removed]",
            "text/plain": [
              "<Figure size 432x288 with 1 Axes>"
            ]
          },
          "metadata": {
            "needs_background": "light"
          },
          "output_type": "display_data"
        }
      ],
      "source": [
        "pred_word_emb = model.predict(X_test, verbose = 0)\n",
        "report(pred_word_emb, y_test)"
      ]
    },
    {
      "cell_type": "markdown",
      "metadata": {
        "id": "eXXqIJAJIkt8"
      },
      "source": [
        "not sure why these are different, but I'd put it down to the l2 norms"
      ]
    },
    {
      "cell_type": "markdown",
      "metadata": {
        "id": "nEW5zwCqIkA_"
      },
      "source": [
        "MSE\n",
        "\n"
      ]
    },
    {
      "cell_type": "code",
      "execution_count": 132,
      "metadata": {
        "colab": {
          "base_uri": "https://localhost:8080/",
          "height": 279
        },
        "id": "Du00aNkIUHKB",
        "outputId": "cce36528-b616-4bb1-b61a-2b548f36e458"
      },
      "outputs": [
        {
          "data": {
            "image/png": "[encoded data removed]",
            "text/plain": [
              "<Figure size 432x288 with 1 Axes>"
            ]
          },
          "metadata": {
            "needs_background": "light"
          },
          "output_type": "display_data"
        }
      ],
      "source": [
        "plt.plot(range(n_epochs), history.history[\"loss\"])\n",
        "plt.plot(range(n_epochs), history.history[\"cosine_similarity\"])\n",
        "plt.legend([\"MSE loss\", \"cosine similarity\"])\n",
        "plt.xlabel(\"epochs\")\n",
        "plt.show()"
      ]
    }
  ],
  "metadata": {
    "colab": {
      "name": "gloss2sgns.ipynb",
      "provenance": []
    },
    "interpreter": {
      "hash": "aee8b7b246df8f9039afb4144a1f6fd8d2ca17a180786b69acc140d282b71a49"
    },
    "kernelspec": {
      "display_name": "Python 3.9.7 64-bit",
      "language": "python",
      "name": "python3"
    },
    "language_info": {
      "codemirror_mode": {
        "name": "ipython",
        "version": 3
      },
      "file_extension": ".py",
      "mimetype": "text/x-python",
      "name": "python",
      "nbconvert_exporter": "python",
      "pygments_lexer": "ipython3",
      "version": "3.9.7"
    },
    "orig_nbformat": 4
  },
  "nbformat": 4,
  "nbformat_minor": 0
}
